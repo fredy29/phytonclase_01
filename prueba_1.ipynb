{
  "nbformat": 4,
  "nbformat_minor": 0,
  "metadata": {
    "colab": {
      "provenance": [],
      "authorship_tag": "ABX9TyNgpch6abMffrGiY/s1cy68",
      "include_colab_link": true
    },
    "kernelspec": {
      "name": "python3",
      "display_name": "Python 3"
    },
    "language_info": {
      "name": "python"
    }
  },
  "cells": [
    {
      "cell_type": "markdown",
      "metadata": {
        "id": "view-in-github",
        "colab_type": "text"
      },
      "source": [
        "<a href=\"https://colab.research.google.com/github/fredy29/phytonclase_01/blob/main/prueba_1.ipynb\" target=\"_parent\"><img src=\"https://colab.research.google.com/assets/colab-badge.svg\" alt=\"Open In Colab\"/></a>"
      ]
    },
    {
      "cell_type": "code",
      "execution_count": 1,
      "metadata": {
        "colab": {
          "base_uri": "https://localhost:8080/"
        },
        "id": "ztxm54dqUOIu",
        "outputId": "ea30434e-ceb1-4396-fa09-9ebc2bb98506"
      },
      "outputs": [
        {
          "output_type": "stream",
          "name": "stdout",
          "text": [
            "HOLA CTIC UNI\n"
          ]
        }
      ],
      "source": [
        "print (\"HOLA CTIC UNI\")\n"
      ]
    },
    {
      "cell_type": "markdown",
      "source": [
        "este es un notebook creado en python"
      ],
      "metadata": {
        "id": "vZ-UcT3ZZUUH"
      }
    },
    {
      "cell_type": "code",
      "source": [],
      "metadata": {
        "id": "3MNho869ZlyV"
      },
      "execution_count": null,
      "outputs": []
    },
    {
      "cell_type": "markdown",
      "source": [],
      "metadata": {
        "id": "HNYQoVo-Zm1W"
      }
    }
  ]
}